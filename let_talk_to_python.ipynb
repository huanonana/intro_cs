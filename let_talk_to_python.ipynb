{
 "cells": [
  {
   "cell_type": "code",
   "execution_count": null,
   "id": "070c54b8",
   "metadata": {},
   "outputs": [],
   "source": [
    "# Let to python "
   ]
  },
  {
   "cell_type": "markdown",
   "id": "1fb43f20",
   "metadata": {},
   "source": [
    "## math"
   ]
  },
  {
   "cell_type": "code",
   "execution_count": 4,
   "id": "2fb9dcbd",
   "metadata": {},
   "outputs": [
    {
     "data": {
      "text/plain": [
       "9"
      ]
     },
     "execution_count": 4,
     "metadata": {},
     "output_type": "execute_result"
    }
   ],
   "source": [
    "#\n",
    "1 + 2 + 6"
   ]
  },
  {
   "cell_type": "code",
   "execution_count": 3,
   "id": "3c15293d",
   "metadata": {},
   "outputs": [
    {
     "data": {
      "text/plain": [
       "-4"
      ]
     },
     "execution_count": 3,
     "metadata": {},
     "output_type": "execute_result"
    }
   ],
   "source": [
    "9 - 5 -8 "
   ]
  },
  {
   "cell_type": "code",
   "execution_count": 5,
   "id": "484b158c",
   "metadata": {},
   "outputs": [
    {
     "data": {
      "text/plain": [
       "3.0"
      ]
     },
     "execution_count": 5,
     "metadata": {},
     "output_type": "execute_result"
    }
   ],
   "source": [
    "6 / 2"
   ]
  },
  {
   "cell_type": "code",
   "execution_count": 6,
   "id": "8ee7236d",
   "metadata": {},
   "outputs": [
    {
     "data": {
      "text/plain": [
       "2.857142857142857"
      ]
     },
     "execution_count": 6,
     "metadata": {},
     "output_type": "execute_result"
    }
   ],
   "source": [
    "20 / 7"
   ]
  },
  {
   "cell_type": "code",
   "execution_count": 7,
   "id": "ad793e2c",
   "metadata": {},
   "outputs": [
    {
     "data": {
      "text/plain": [
       "3.3333333333333335"
      ]
     },
     "execution_count": 7,
     "metadata": {},
     "output_type": "execute_result"
    }
   ],
   "source": [
    "10 / 3"
   ]
  },
  {
   "cell_type": "code",
   "execution_count": 8,
   "id": "bc42b7ca",
   "metadata": {},
   "outputs": [
    {
     "data": {
      "text/plain": [
       "3"
      ]
     },
     "execution_count": 8,
     "metadata": {},
     "output_type": "execute_result"
    }
   ],
   "source": [
    "round(10/3)"
   ]
  },
  {
   "cell_type": "code",
   "execution_count": 9,
   "id": "7c1e7a50",
   "metadata": {},
   "outputs": [],
   "source": [
    "?round"
   ]
  },
  {
   "cell_type": "code",
   "execution_count": 10,
   "id": "b0d15d6b",
   "metadata": {},
   "outputs": [
    {
     "data": {
      "text/plain": [
       "True"
      ]
     },
     "execution_count": 10,
     "metadata": {},
     "output_type": "execute_result"
    }
   ],
   "source": [
    "5 == 5"
   ]
  },
  {
   "cell_type": "code",
   "execution_count": 11,
   "id": "4adfabcf",
   "metadata": {},
   "outputs": [
    {
     "data": {
      "text/plain": [
       "False"
      ]
     },
     "execution_count": 11,
     "metadata": {},
     "output_type": "execute_result"
    }
   ],
   "source": [
    "5 != 5"
   ]
  },
  {
   "cell_type": "code",
   "execution_count": 12,
   "id": "34f41bda",
   "metadata": {},
   "outputs": [
    {
     "data": {
      "text/plain": [
       "False"
      ]
     },
     "execution_count": 12,
     "metadata": {},
     "output_type": "execute_result"
    }
   ],
   "source": [
    "5 > 7"
   ]
  },
  {
   "cell_type": "code",
   "execution_count": 13,
   "id": "062a01df",
   "metadata": {},
   "outputs": [
    {
     "data": {
      "text/plain": [
       "True"
      ]
     },
     "execution_count": 13,
     "metadata": {},
     "output_type": "execute_result"
    }
   ],
   "source": [
    "6 <= 6"
   ]
  },
  {
   "cell_type": "code",
   "execution_count": 14,
   "id": "5c97bed8",
   "metadata": {},
   "outputs": [
    {
     "data": {
      "text/plain": [
       "False"
      ]
     },
     "execution_count": 14,
     "metadata": {},
     "output_type": "execute_result"
    }
   ],
   "source": [
    "6 >= 8"
   ]
  },
  {
   "cell_type": "code",
   "execution_count": 15,
   "id": "4c2c3a10",
   "metadata": {},
   "outputs": [
    {
     "data": {
      "text/plain": [
       "4"
      ]
     },
     "execution_count": 15,
     "metadata": {},
     "output_type": "execute_result"
    }
   ],
   "source": [
    "# phép chia lấy phần nguyên\n",
    "9 // 2"
   ]
  },
  {
   "cell_type": "code",
   "execution_count": 17,
   "id": "d89b78a8",
   "metadata": {},
   "outputs": [
    {
     "data": {
      "text/plain": [
       "1"
      ]
     },
     "execution_count": 17,
     "metadata": {},
     "output_type": "execute_result"
    }
   ],
   "source": [
    "# phép chia lấy phần dư\n",
    "9 % 2"
   ]
  },
  {
   "cell_type": "code",
   "execution_count": 18,
   "id": "48e89fba",
   "metadata": {},
   "outputs": [
    {
     "data": {
      "text/plain": [
       "81"
      ]
     },
     "execution_count": 18,
     "metadata": {},
     "output_type": "execute_result"
    }
   ],
   "source": [
    "# lũy thừa \n",
    "3 ** 4"
   ]
  },
  {
   "cell_type": "code",
   "execution_count": 19,
   "id": "ee63e1e1",
   "metadata": {},
   "outputs": [
    {
     "data": {
      "text/plain": [
       "7"
      ]
     },
     "execution_count": 19,
     "metadata": {},
     "output_type": "execute_result"
    }
   ],
   "source": [
    "1 + 2 * 3 + 6 - 7 + (5 - 4)"
   ]
  },
  {
   "cell_type": "code",
   "execution_count": 20,
   "id": "20e6d066",
   "metadata": {},
   "outputs": [
    {
     "data": {
      "text/plain": [
       "2"
      ]
     },
     "execution_count": 20,
     "metadata": {},
     "output_type": "execute_result"
    }
   ],
   "source": [
    "7 // 3"
   ]
  },
  {
   "cell_type": "markdown",
   "id": "4bdac4ae",
   "metadata": {},
   "source": [
    "## strings"
   ]
  },
  {
   "cell_type": "code",
   "execution_count": 21,
   "id": "ea4f2907",
   "metadata": {},
   "outputs": [
    {
     "data": {
      "text/plain": [
       "'hello!'"
      ]
     },
     "execution_count": 21,
     "metadata": {},
     "output_type": "execute_result"
    }
   ],
   "source": [
    "\"hello!\""
   ]
  },
  {
   "cell_type": "code",
   "execution_count": 22,
   "id": "5de905d5",
   "metadata": {},
   "outputs": [
    {
     "data": {
      "text/plain": [
       "'apple!'"
      ]
     },
     "execution_count": 22,
     "metadata": {},
     "output_type": "execute_result"
    }
   ],
   "source": [
    "\"apple!\""
   ]
  },
  {
   "cell_type": "markdown",
   "id": "70cd44b8",
   "metadata": {},
   "source": [
    "### string operators\n",
    "- concatenation\n",
    "- multiplication"
   ]
  },
  {
   "cell_type": "markdown",
   "id": "2a8f5360",
   "metadata": {},
   "source": [
    "### string index \n",
    "rules:\n",
    "- indexes start at 0\n",
    "- space inside the string are counted"
   ]
  },
  {
   "cell_type": "code",
   "execution_count": 32,
   "id": "52effa8f",
   "metadata": {},
   "outputs": [
    {
     "data": {
      "text/plain": [
       "'hello'"
      ]
     },
     "execution_count": 32,
     "metadata": {},
     "output_type": "execute_result"
    }
   ],
   "source": [
    "\"h\"+\"e\"+\"l\"+\"l\" \"o\""
   ]
  },
  {
   "cell_type": "code",
   "execution_count": 33,
   "id": "4d3e78a3",
   "metadata": {},
   "outputs": [
    {
     "data": {
      "text/plain": [
       "'h'"
      ]
     },
     "execution_count": 33,
     "metadata": {},
     "output_type": "execute_result"
    }
   ],
   "source": [
    "\"hello\"[0]"
   ]
  },
  {
   "cell_type": "code",
   "execution_count": 35,
   "id": "cc5dd230",
   "metadata": {},
   "outputs": [
    {
     "data": {
      "text/plain": [
       "' '"
      ]
     },
     "execution_count": 35,
     "metadata": {},
     "output_type": "execute_result"
    }
   ],
   "source": [
    "\"hey, trang\"[4]"
   ]
  },
  {
   "cell_type": "markdown",
   "id": "44831a81",
   "metadata": {},
   "source": [
    "### string functions"
   ]
  },
  {
   "cell_type": "code",
   "execution_count": 37,
   "id": "f7b93e5f",
   "metadata": {},
   "outputs": [
    {
     "data": {
      "text/plain": [
       "'PHẠM VĂN HUẤN'"
      ]
     },
     "execution_count": 37,
     "metadata": {},
     "output_type": "execute_result"
    }
   ],
   "source": [
    "\"phạm văn huấn\".upper()"
   ]
  },
  {
   "cell_type": "code",
   "execution_count": 38,
   "id": "ab57be67",
   "metadata": {},
   "outputs": [
    {
     "data": {
      "text/plain": [
       "'mai xuân tráng'"
      ]
     },
     "execution_count": 38,
     "metadata": {},
     "output_type": "execute_result"
    }
   ],
   "source": [
    "\"MAI XUÂN TRÁNG\".lower()"
   ]
  },
  {
   "cell_type": "code",
   "execution_count": 39,
   "id": "c42bebfc",
   "metadata": {},
   "outputs": [
    {
     "data": {
      "text/plain": [
       "16"
      ]
     },
     "execution_count": 39,
     "metadata": {},
     "output_type": "execute_result"
    }
   ],
   "source": [
    "len(\"this is a string\")"
   ]
  },
  {
   "cell_type": "code",
   "execution_count": 40,
   "id": "b5fd597e",
   "metadata": {},
   "outputs": [
    {
     "data": {
      "text/plain": [
       "23"
      ]
     },
     "execution_count": 40,
     "metadata": {},
     "output_type": "execute_result"
    }
   ],
   "source": [
    "len(\" this is a string      \")"
   ]
  },
  {
   "cell_type": "code",
   "execution_count": 41,
   "id": "96f546e0",
   "metadata": {},
   "outputs": [
    {
     "data": {
      "text/plain": [
       "'this is a string'"
      ]
     },
     "execution_count": 41,
     "metadata": {},
     "output_type": "execute_result"
    }
   ],
   "source": [
    "\"this is a string    \".strip()"
   ]
  },
  {
   "cell_type": "code",
   "execution_count": 42,
   "id": "981ec6db",
   "metadata": {},
   "outputs": [
    {
     "data": {
      "text/plain": [
       "True"
      ]
     },
     "execution_count": 42,
     "metadata": {},
     "output_type": "execute_result"
    }
   ],
   "source": [
    "\"#this is a string\".startswith(\"#\")"
   ]
  },
  {
   "cell_type": "code",
   "execution_count": 45,
   "id": "4c224f39",
   "metadata": {},
   "outputs": [
    {
     "data": {
      "text/plain": [
       "'llo world!'"
      ]
     },
     "execution_count": 45,
     "metadata": {},
     "output_type": "execute_result"
    }
   ],
   "source": [
    "# substring\n",
    "\"hello world!\"[2:]"
   ]
  },
  {
   "cell_type": "code",
   "execution_count": 46,
   "id": "41475ecf",
   "metadata": {},
   "outputs": [
    {
     "data": {
      "text/plain": [
       "'!'"
      ]
     },
     "execution_count": 46,
     "metadata": {},
     "output_type": "execute_result"
    }
   ],
   "source": [
    "\"hello world!\"[-1]"
   ]
  },
  {
   "cell_type": "code",
   "execution_count": 47,
   "id": "5f22ea54",
   "metadata": {},
   "outputs": [
    {
     "data": {
      "text/plain": [
       "'hello'"
      ]
     },
     "execution_count": 47,
     "metadata": {},
     "output_type": "execute_result"
    }
   ],
   "source": [
    "\"hello world!\"[:5]"
   ]
  },
  {
   "cell_type": "code",
   "execution_count": 48,
   "id": "21335d1f",
   "metadata": {},
   "outputs": [
    {
     "data": {
      "text/plain": [
       "'llo'"
      ]
     },
     "execution_count": 48,
     "metadata": {},
     "output_type": "execute_result"
    }
   ],
   "source": [
    "\"hello world!\"[2:5]"
   ]
  },
  {
   "cell_type": "code",
   "execution_count": 49,
   "id": "16229bbe",
   "metadata": {},
   "outputs": [
    {
     "data": {
      "text/plain": [
       "'llo worl'"
      ]
     },
     "execution_count": 49,
     "metadata": {},
     "output_type": "execute_result"
    }
   ],
   "source": [
    "\"hello world!\"[2:10]"
   ]
  },
  {
   "cell_type": "code",
   "execution_count": 50,
   "id": "54b1eba9",
   "metadata": {},
   "outputs": [
    {
     "data": {
      "text/plain": [
       "'el ol'"
      ]
     },
     "execution_count": 50,
     "metadata": {},
     "output_type": "execute_result"
    }
   ],
   "source": [
    "\"hello world!\"[1:10:2]"
   ]
  },
  {
   "cell_type": "code",
   "execution_count": 51,
   "id": "104803b5",
   "metadata": {},
   "outputs": [
    {
     "data": {
      "text/plain": [
       "'dlrow olleh'"
      ]
     },
     "execution_count": 51,
     "metadata": {},
     "output_type": "execute_result"
    }
   ],
   "source": [
    "\"hello world\"[::-1]"
   ]
  },
  {
   "cell_type": "markdown",
   "id": "e79b6d68",
   "metadata": {},
   "source": [
    "# variable"
   ]
  },
  {
   "cell_type": "code",
   "execution_count": 56,
   "id": "49f18543",
   "metadata": {},
   "outputs": [],
   "source": [
    "a = 14 * 14"
   ]
  },
  {
   "cell_type": "code",
   "execution_count": 57,
   "id": "6fed1662",
   "metadata": {},
   "outputs": [
    {
     "data": {
      "text/plain": [
       "196"
      ]
     },
     "execution_count": 57,
     "metadata": {},
     "output_type": "execute_result"
    }
   ],
   "source": [
    "a"
   ]
  },
  {
   "cell_type": "code",
   "execution_count": 59,
   "id": "08b134b1",
   "metadata": {},
   "outputs": [],
   "source": [
    "b = 38 * 6"
   ]
  },
  {
   "cell_type": "code",
   "execution_count": 60,
   "id": "67ed3bcc",
   "metadata": {},
   "outputs": [
    {
     "data": {
      "text/plain": [
       "228"
      ]
     },
     "execution_count": 60,
     "metadata": {},
     "output_type": "execute_result"
    }
   ],
   "source": [
    "b"
   ]
  },
  {
   "cell_type": "code",
   "execution_count": 61,
   "id": "e1de757b",
   "metadata": {},
   "outputs": [
    {
     "data": {
      "text/plain": [
       "False"
      ]
     },
     "execution_count": 61,
     "metadata": {},
     "output_type": "execute_result"
    }
   ],
   "source": [
    "a == b"
   ]
  },
  {
   "cell_type": "code",
   "execution_count": 63,
   "id": "28667115",
   "metadata": {},
   "outputs": [],
   "source": [
    "s = \"hello world!\""
   ]
  },
  {
   "cell_type": "code",
   "execution_count": 64,
   "id": "91484ced",
   "metadata": {},
   "outputs": [
    {
     "data": {
      "text/plain": [
       "12"
      ]
     },
     "execution_count": 64,
     "metadata": {},
     "output_type": "execute_result"
    }
   ],
   "source": [
    "len(s)"
   ]
  },
  {
   "cell_type": "code",
   "execution_count": 66,
   "id": "f2cafcbb",
   "metadata": {},
   "outputs": [
    {
     "data": {
      "text/plain": [
       "True"
      ]
     },
     "execution_count": 66,
     "metadata": {},
     "output_type": "execute_result"
    }
   ],
   "source": [
    "s.startswith(\"he\")"
   ]
  },
  {
   "cell_type": "code",
   "execution_count": 67,
   "id": "7093e53f",
   "metadata": {},
   "outputs": [
    {
     "name": "stdout",
     "output_type": "stream",
     "text": [
      "hello world!\n"
     ]
    }
   ],
   "source": [
    "print(\"hello world!\")"
   ]
  },
  {
   "cell_type": "code",
   "execution_count": 81,
   "id": "2fb878b8",
   "metadata": {},
   "outputs": [
    {
     "name": "stdout",
     "output_type": "stream",
     "text": [
      "6\n"
     ]
    }
   ],
   "source": [
    "s = int(input())"
   ]
  },
  {
   "cell_type": "code",
   "execution_count": 83,
   "id": "d4dfae68",
   "metadata": {},
   "outputs": [
    {
     "data": {
      "text/plain": [
       "36"
      ]
     },
     "execution_count": 83,
     "metadata": {},
     "output_type": "execute_result"
    }
   ],
   "source": [
    "s * 6"
   ]
  },
  {
   "cell_type": "code",
   "execution_count": 82,
   "id": "5239da3c",
   "metadata": {},
   "outputs": [
    {
     "data": {
      "text/plain": [
       "int"
      ]
     },
     "execution_count": 82,
     "metadata": {},
     "output_type": "execute_result"
    }
   ],
   "source": [
    "type(s)"
   ]
  },
  {
   "cell_type": "markdown",
   "id": "ca0a64dd",
   "metadata": {},
   "source": [
    "### DATA TYPES\n"
   ]
  },
  {
   "cell_type": "code",
   "execution_count": 3,
   "id": "a50866ba",
   "metadata": {},
   "outputs": [],
   "source": [
    "s = \"hello\""
   ]
  },
  {
   "cell_type": "code",
   "execution_count": 4,
   "id": "d4a14930",
   "metadata": {},
   "outputs": [
    {
     "data": {
      "text/plain": [
       "str"
      ]
     },
     "execution_count": 4,
     "metadata": {},
     "output_type": "execute_result"
    }
   ],
   "source": [
    "type(s)"
   ]
  },
  {
   "cell_type": "code",
   "execution_count": 5,
   "id": "0647c57a",
   "metadata": {},
   "outputs": [],
   "source": [
    "s = 8"
   ]
  },
  {
   "cell_type": "code",
   "execution_count": 6,
   "id": "110f85f1",
   "metadata": {},
   "outputs": [
    {
     "data": {
      "text/plain": [
       "int"
      ]
     },
     "execution_count": 6,
     "metadata": {},
     "output_type": "execute_result"
    }
   ],
   "source": [
    "type(s)"
   ]
  },
  {
   "cell_type": "code",
   "execution_count": 7,
   "id": "72122bdc",
   "metadata": {},
   "outputs": [],
   "source": [
    "s = 1.999"
   ]
  },
  {
   "cell_type": "code",
   "execution_count": 8,
   "id": "30a97bf6",
   "metadata": {},
   "outputs": [
    {
     "data": {
      "text/plain": [
       "float"
      ]
     },
     "execution_count": 8,
     "metadata": {},
     "output_type": "execute_result"
    }
   ],
   "source": [
    "type(s)"
   ]
  },
  {
   "cell_type": "markdown",
   "id": "409158c3",
   "metadata": {},
   "source": [
    "### booleans"
   ]
  },
  {
   "cell_type": "code",
   "execution_count": 10,
   "id": "45373acf",
   "metadata": {},
   "outputs": [
    {
     "data": {
      "text/plain": [
       "True"
      ]
     },
     "execution_count": 10,
     "metadata": {},
     "output_type": "execute_result"
    }
   ],
   "source": [
    "True"
   ]
  },
  {
   "cell_type": "code",
   "execution_count": 11,
   "id": "dd509254",
   "metadata": {},
   "outputs": [
    {
     "data": {
      "text/plain": [
       "False"
      ]
     },
     "execution_count": 11,
     "metadata": {},
     "output_type": "execute_result"
    }
   ],
   "source": [
    "False"
   ]
  },
  {
   "cell_type": "code",
   "execution_count": 12,
   "id": "51cc53ad",
   "metadata": {},
   "outputs": [
    {
     "data": {
      "text/plain": [
       "True"
      ]
     },
     "execution_count": 12,
     "metadata": {},
     "output_type": "execute_result"
    }
   ],
   "source": [
    "1 == 1"
   ]
  },
  {
   "cell_type": "code",
   "execution_count": 13,
   "id": "8b6e4c79",
   "metadata": {},
   "outputs": [
    {
     "data": {
      "text/plain": [
       "True"
      ]
     },
     "execution_count": 13,
     "metadata": {},
     "output_type": "execute_result"
    }
   ],
   "source": [
    "# and\n",
    "1 == 1 and 2 != 4"
   ]
  },
  {
   "cell_type": "code",
   "execution_count": 14,
   "id": "22339ce1",
   "metadata": {},
   "outputs": [
    {
     "data": {
      "text/plain": [
       "False"
      ]
     },
     "execution_count": 14,
     "metadata": {},
     "output_type": "execute_result"
    }
   ],
   "source": [
    "False and True"
   ]
  },
  {
   "cell_type": "code",
   "execution_count": 15,
   "id": "6aa32119",
   "metadata": {},
   "outputs": [
    {
     "data": {
      "text/plain": [
       "False"
      ]
     },
     "execution_count": 15,
     "metadata": {},
     "output_type": "execute_result"
    }
   ],
   "source": [
    "\"test\" == 'tests'"
   ]
  },
  {
   "cell_type": "markdown",
   "id": "47244241",
   "metadata": {},
   "source": [
    "### lists (danh sach)\n",
    "danh sách là một chuỗi của các đối tượng (objects)."
   ]
  },
  {
   "cell_type": "code",
   "execution_count": 16,
   "id": "cab58c60",
   "metadata": {},
   "outputs": [],
   "source": [
    "fruit = [\"apple\", \"banana\",\"grape\"]"
   ]
  },
  {
   "cell_type": "code",
   "execution_count": 17,
   "id": "f9dda666",
   "metadata": {},
   "outputs": [
    {
     "data": {
      "text/plain": [
       "list"
      ]
     },
     "execution_count": 17,
     "metadata": {},
     "output_type": "execute_result"
    }
   ],
   "source": [
    "type(fruit)"
   ]
  },
  {
   "cell_type": "code",
   "execution_count": 18,
   "id": "aae24c4a",
   "metadata": {},
   "outputs": [],
   "source": [
    "numbers = [3,4,5,6,7]"
   ]
  },
  {
   "cell_type": "code",
   "execution_count": 19,
   "id": "682a5eb1",
   "metadata": {},
   "outputs": [
    {
     "data": {
      "text/plain": [
       "list"
      ]
     },
     "execution_count": 19,
     "metadata": {},
     "output_type": "execute_result"
    }
   ],
   "source": [
    "type(numbers)"
   ]
  },
  {
   "cell_type": "code",
   "execution_count": 20,
   "id": "dd573c04",
   "metadata": {},
   "outputs": [],
   "source": [
    "colors = [\"red\", \"blue\", \"black\"]"
   ]
  },
  {
   "cell_type": "code",
   "execution_count": 22,
   "id": "d577ad96",
   "metadata": {},
   "outputs": [
    {
     "name": "stdout",
     "output_type": "stream",
     "text": [
      "black\n"
     ]
    }
   ],
   "source": [
    "print(colors[-1])"
   ]
  },
  {
   "cell_type": "markdown",
   "id": "078cb8ed",
   "metadata": {},
   "source": [
    "### một số hàm/phương thức cho list "
   ]
  },
  {
   "cell_type": "markdown",
   "id": "a895c6f6",
   "metadata": {},
   "source": [
    "slicing: lấy ra danh sách con\n",
    "ls[begin:end:step]"
   ]
  },
  {
   "cell_type": "code",
   "execution_count": 29,
   "id": "75f2317a",
   "metadata": {},
   "outputs": [],
   "source": [
    "lst=[10,20,30,40,50,60,70,80,90]"
   ]
  },
  {
   "cell_type": "code",
   "execution_count": 31,
   "id": "d34c5229",
   "metadata": {},
   "outputs": [
    {
     "data": {
      "text/plain": [
       "[10, 20, 30]"
      ]
     },
     "execution_count": 31,
     "metadata": {},
     "output_type": "execute_result"
    }
   ],
   "source": [
    "lst[0:3]"
   ]
  },
  {
   "cell_type": "code",
   "execution_count": 32,
   "id": "33a20343",
   "metadata": {},
   "outputs": [
    {
     "data": {
      "text/plain": [
       "[50, 60]"
      ]
     },
     "execution_count": 32,
     "metadata": {},
     "output_type": "execute_result"
    }
   ],
   "source": [
    "lst[-5:-3]"
   ]
  },
  {
   "cell_type": "code",
   "execution_count": 33,
   "id": "fa5c9bd1",
   "metadata": {},
   "outputs": [
    {
     "data": {
      "text/plain": [
       "[10, 20, 30, 40, 50, 60, 70, 80, 90]"
      ]
     },
     "execution_count": 33,
     "metadata": {},
     "output_type": "execute_result"
    }
   ],
   "source": [
    "lst[:]"
   ]
  },
  {
   "cell_type": "code",
   "execution_count": 34,
   "id": "fa7aa7b3",
   "metadata": {},
   "outputs": [
    {
     "data": {
      "text/plain": [
       "[10, 30, 50, 70, 90]"
      ]
     },
     "execution_count": 34,
     "metadata": {},
     "output_type": "execute_result"
    }
   ],
   "source": [
    "lst[::2]"
   ]
  },
  {
   "cell_type": "code",
   "execution_count": 35,
   "id": "efebf411",
   "metadata": {},
   "outputs": [
    {
     "data": {
      "text/plain": [
       "[90, 80, 70, 60, 50, 40, 30, 20, 10]"
      ]
     },
     "execution_count": 35,
     "metadata": {},
     "output_type": "execute_result"
    }
   ],
   "source": [
    "lst[::-1]"
   ]
  },
  {
   "cell_type": "code",
   "execution_count": 37,
   "id": "907fa83b",
   "metadata": {},
   "outputs": [],
   "source": [
    "# Insert \n",
    "lst.insert(2,9)"
   ]
  },
  {
   "cell_type": "code",
   "execution_count": 38,
   "id": "1f0382b6",
   "metadata": {},
   "outputs": [
    {
     "data": {
      "text/plain": [
       "[10, 20, 9, 30, 40, 50, 60, 70, 80, 90]"
      ]
     },
     "execution_count": 38,
     "metadata": {},
     "output_type": "execute_result"
    }
   ],
   "source": [
    "lst"
   ]
  },
  {
   "cell_type": "code",
   "execution_count": 42,
   "id": "94e8055b",
   "metadata": {},
   "outputs": [],
   "source": [
    "lst.append(9)"
   ]
  },
  {
   "cell_type": "code",
   "execution_count": 43,
   "id": "0a8686af",
   "metadata": {},
   "outputs": [
    {
     "data": {
      "text/plain": [
       "[10, 20, 30, 40, 50, 60, 70, 80, 90, 11, 9]"
      ]
     },
     "execution_count": 43,
     "metadata": {},
     "output_type": "execute_result"
    }
   ],
   "source": [
    "lst"
   ]
  },
  {
   "cell_type": "code",
   "execution_count": 44,
   "id": "63154460",
   "metadata": {},
   "outputs": [],
   "source": [
    "# remove\n",
    "lst.remove(9)"
   ]
  },
  {
   "cell_type": "code",
   "execution_count": 45,
   "id": "513c56de",
   "metadata": {},
   "outputs": [
    {
     "data": {
      "text/plain": [
       "[10, 20, 30, 40, 50, 60, 70, 80, 90, 11]"
      ]
     },
     "execution_count": 45,
     "metadata": {},
     "output_type": "execute_result"
    }
   ],
   "source": [
    "lst"
   ]
  },
  {
   "cell_type": "code",
   "execution_count": 46,
   "id": "cf7d2688",
   "metadata": {},
   "outputs": [],
   "source": [
    "# reverse\n",
    "lst.reverse()"
   ]
  },
  {
   "cell_type": "code",
   "execution_count": 47,
   "id": "4fb5c770",
   "metadata": {},
   "outputs": [
    {
     "data": {
      "text/plain": [
       "[11, 90, 80, 70, 60, 50, 40, 30, 20, 10]"
      ]
     },
     "execution_count": 47,
     "metadata": {},
     "output_type": "execute_result"
    }
   ],
   "source": [
    "lst"
   ]
  },
  {
   "cell_type": "code",
   "execution_count": 48,
   "id": "df124aa8",
   "metadata": {},
   "outputs": [],
   "source": [
    "del lst[0]"
   ]
  },
  {
   "cell_type": "code",
   "execution_count": 49,
   "id": "33e14bbe",
   "metadata": {},
   "outputs": [
    {
     "data": {
      "text/plain": [
       "[90, 80, 70, 60, 50, 40, 30, 20, 10]"
      ]
     },
     "execution_count": 49,
     "metadata": {},
     "output_type": "execute_result"
    }
   ],
   "source": [
    "lst"
   ]
  },
  {
   "cell_type": "code",
   "execution_count": 50,
   "id": "aa936cd6",
   "metadata": {},
   "outputs": [],
   "source": [
    "# sort\n",
    "lst.sort()"
   ]
  },
  {
   "cell_type": "code",
   "execution_count": 51,
   "id": "93b921d0",
   "metadata": {},
   "outputs": [
    {
     "data": {
      "text/plain": [
       "[10, 20, 30, 40, 50, 60, 70, 80, 90]"
      ]
     },
     "execution_count": 51,
     "metadata": {},
     "output_type": "execute_result"
    }
   ],
   "source": [
    "lst"
   ]
  },
  {
   "cell_type": "code",
   "execution_count": 52,
   "id": "1176320f",
   "metadata": {},
   "outputs": [],
   "source": [
    "lst.sort(reverse=True)"
   ]
  },
  {
   "cell_type": "code",
   "execution_count": 53,
   "id": "d6ea017e",
   "metadata": {},
   "outputs": [
    {
     "data": {
      "text/plain": [
       "[90, 80, 70, 60, 50, 40, 30, 20, 10]"
      ]
     },
     "execution_count": 53,
     "metadata": {},
     "output_type": "execute_result"
    }
   ],
   "source": [
    "lst"
   ]
  },
  {
   "cell_type": "markdown",
   "id": "44f46705",
   "metadata": {},
   "source": [
    "### danh sách đa chiều(ma trận dnah sách 2 chiều)"
   ]
  },
  {
   "cell_type": "code",
   "execution_count": 54,
   "id": "2a842a35",
   "metadata": {},
   "outputs": [],
   "source": [
    "matrix = (\n",
    "[10, 13, 14],\n",
    "[4, 5, 8],\n",
    "[4, 5, 7]\n",
    ")"
   ]
  },
  {
   "cell_type": "code",
   "execution_count": 55,
   "id": "49f3adc6",
   "metadata": {},
   "outputs": [
    {
     "data": {
      "text/plain": [
       "([10, 13, 14], [4, 5, 8], [4, 5, 7])"
      ]
     },
     "execution_count": 55,
     "metadata": {},
     "output_type": "execute_result"
    }
   ],
   "source": [
    "matrix"
   ]
  },
  {
   "cell_type": "code",
   "execution_count": 56,
   "id": "709fb4fd",
   "metadata": {},
   "outputs": [
    {
     "data": {
      "text/plain": [
       "8"
      ]
     },
     "execution_count": 56,
     "metadata": {},
     "output_type": "execute_result"
    }
   ],
   "source": [
    "matrix[1][2]"
   ]
  },
  {
   "cell_type": "markdown",
   "id": "db8b41bc",
   "metadata": {},
   "source": [
    "## biểu thức điều khiển và vòng lập\n",
    "if statement"
   ]
  },
  {
   "cell_type": "code",
   "execution_count": 68,
   "id": "24843b33",
   "metadata": {},
   "outputs": [
    {
     "name": "stdout",
     "output_type": "stream",
     "text": [
      "nhap ten cua ban:john\n"
     ]
    }
   ],
   "source": [
    "name = input(\"nhap ten cua ban:\")"
   ]
  },
  {
   "cell_type": "code",
   "execution_count": 69,
   "id": "276b5992",
   "metadata": {},
   "outputs": [
    {
     "name": "stdout",
     "output_type": "stream",
     "text": [
      "hi john\n"
     ]
    }
   ],
   "source": [
    "if name == \"huan\":\n",
    "    print(\"hi huan\")\n",
    "elif name == \"john\":\n",
    "    print(\"hi john\")\n",
    "else:\n",
    "    print(\"khong phai la huan, ma la \", name)"
   ]
  },
  {
   "cell_type": "markdown",
   "id": "2b07716f",
   "metadata": {},
   "source": [
    "### vòng lặp (loops)\n",
    "-counting loops (lặp đếm)\n",
    "-couditional loops (lặp điều kiện)"
   ]
  },
  {
   "cell_type": "code",
   "execution_count": 70,
   "id": "ace832cf",
   "metadata": {},
   "outputs": [
    {
     "name": "stdout",
     "output_type": "stream",
     "text": [
      "số mới là 2\n",
      "số mới là 3\n",
      "số mới là 4\n",
      "số mới là 5\n",
      "số mới là 6\n"
     ]
    }
   ],
   "source": [
    "# counting loops - for\n",
    "for mynum in [1, 2, 3, 4, 5]:\n",
    "    newnum = mynum + 1\n",
    "    print(\"số mới là\",newnum)"
   ]
  },
  {
   "cell_type": "code",
   "execution_count": 71,
   "id": "474d8ffb",
   "metadata": {},
   "outputs": [
    {
     "name": "stdout",
     "output_type": "stream",
     "text": [
      "sô đếm là: 0\n",
      "sô đếm là: 1\n",
      "sô đếm là: 2\n",
      "sô đếm là: 3\n",
      "sô đếm là: 4\n",
      "sô đếm là: 5\n",
      "sô đếm là: 6\n",
      "sô đếm là: 7\n",
      "sô đếm là: 8\n",
      "sô đếm là: 9\n"
     ]
    }
   ],
   "source": [
    "# conditional loops - while\n",
    "count = 0\n",
    "while (count < 10):\n",
    "    print(\"sô đếm là:\",count)\n",
    "    count = count + 1"
   ]
  },
  {
   "cell_type": "markdown",
   "id": "c4f371df",
   "metadata": {},
   "source": [
    "### \n",
    "break & continue"
   ]
  },
  {
   "cell_type": "code",
   "execution_count": 72,
   "id": "f4967af2",
   "metadata": {},
   "outputs": [
    {
     "name": "stdout",
     "output_type": "stream",
     "text": [
      "sô đem là : 1\n",
      "sô đem là : 2\n",
      "sô đem là : 3\n",
      "sô đem là : 4\n",
      "sô đem là : 5\n"
     ]
    }
   ],
   "source": [
    "count = 0 \n",
    "while (count < 10):\n",
    "    count = count + 1 \n",
    "    print(\"sô đem là :\", count)\n",
    "    if count == 5:\n",
    "        break"
   ]
  },
  {
   "cell_type": "code",
   "execution_count": 75,
   "id": "b7176ac7",
   "metadata": {},
   "outputs": [
    {
     "name": "stdout",
     "output_type": "stream",
     "text": [
      "nhap vao mot so:5\n",
      "gia tri so ban nhap la: 5\n",
      "ban co muon tiep tuc khong?(c/k):k\n",
      "bye bye!\n",
      "nhap vao mot so:6\n",
      "gia tri so ban nhap la: 6\n",
      "ban co muon tiep tuc khong?(c/k):c\n"
     ]
    }
   ],
   "source": [
    "while True:\n",
    "    a = int(input(\"nhap vao mot so:\"))\n",
    "    print(\"gia tri so ban nhap la:\", a)\n",
    "    s = input (\"ban co muon tiep tuc khong?(c/k):\")\n",
    "    if s== \"c\":\n",
    "        break\n",
    "    print (\"bye bye!\")"
   ]
  },
  {
   "cell_type": "code",
   "execution_count": 89,
   "id": "84f39cd4",
   "metadata": {},
   "outputs": [
    {
     "name": "stdout",
     "output_type": "stream",
     "text": [
      "số đếm là: 0\n",
      "số đếm là: 1\n",
      "số đếm là: 2\n",
      "số đếm là: 3\n",
      "số đếm là: 4\n",
      "số đếm là: 6\n",
      "số đếm là: 7\n",
      "số đếm là: 8\n",
      "số đếm là: 9\n"
     ]
    }
   ],
   "source": [
    "#continue\n",
    "count = 0 \n",
    "while (count < 10): \n",
    "    \n",
    "    if count == 5:\n",
    "        count = count + 1\n",
    "        continue\n",
    "    print(\"số đếm là:\", count)\n",
    "    count = count + 1\n",
    "    \n",
    "    "
   ]
  },
  {
   "cell_type": "code",
   "execution_count": null,
   "id": "eb80b267",
   "metadata": {},
   "outputs": [],
   "source": []
  }
 ],
 "metadata": {
  "kernelspec": {
   "display_name": "Python 3 (ipykernel)",
   "language": "python",
   "name": "python3"
  },
  "language_info": {
   "codemirror_mode": {
    "name": "ipython",
    "version": 3
   },
   "file_extension": ".py",
   "mimetype": "text/x-python",
   "name": "python",
   "nbconvert_exporter": "python",
   "pygments_lexer": "ipython3",
   "version": "3.9.7"
  }
 },
 "nbformat": 4,
 "nbformat_minor": 5
}
