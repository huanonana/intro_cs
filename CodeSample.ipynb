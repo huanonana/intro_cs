{
 "cells": [
  {
   "cell_type": "code",
   "execution_count": 14,
   "metadata": {},
   "outputs": [
    {
     "name": "stdout",
     "output_type": "stream",
     "text": [
      "Nhập n:5\n",
      "Tong la: 1.042\n"
     ]
    }
   ],
   "source": [
    "n=int(input(\"Nhập n:\"))\n",
    "S=0\n",
    "for i in range(1,n,1):\n",
    "    S+=1/(2*i)\n",
    "print(\"Tong la:\",round(S,3))"
   ]
  },
  {
   "cell_type": "code",
   "execution_count": 21,
   "metadata": {},
   "outputs": [
    {
     "name": "stdout",
     "output_type": "stream",
     "text": [
      "Nhập số phần tử của dãy:3\n",
      "Nhập từng phần tử\n",
      "Phần tử thứ  1\n",
      "1\n",
      "Phần tử thứ  2\n",
      "2\n",
      "Phần tử thứ  3\n",
      "3\n",
      "Dãy vừa nhập \n",
      "['1', '2', '3']\n"
     ]
    }
   ],
   "source": [
    "n=int(input(\"Nhập số phần tử của dãy:\"))\n",
    "lst=[0]*n\n",
    "print(\"Nhập từng phần tử\")\n",
    "for i in range(n):\n",
    "    print(\"Phần tử thứ \", i+1)\n",
    "    lst[i]=input()\n",
    "print(\"Dãy vừa nhập \")\n",
    "#for i in range(n):\n",
    "print(lst)"
   ]
  },
  {
   "cell_type": "code",
   "execution_count": null,
   "metadata": {},
   "outputs": [],
   "source": []
  }
 ],
 "metadata": {
  "kernelspec": {
   "display_name": "Python 3 (ipykernel)",
   "language": "python",
   "name": "python3"
  },
  "language_info": {
   "codemirror_mode": {
    "name": "ipython",
    "version": 3
   },
   "file_extension": ".py",
   "mimetype": "text/x-python",
   "name": "python",
   "nbconvert_exporter": "python",
   "pygments_lexer": "ipython3",
   "version": "3.9.7"
  }
 },
 "nbformat": 4,
 "nbformat_minor": 4
}
